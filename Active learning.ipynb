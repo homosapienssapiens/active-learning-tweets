{
 "cells": [
  {
   "cell_type": "code",
   "execution_count": 33,
   "id": "8c64eb61",
   "metadata": {},
   "outputs": [],
   "source": [
    "import pickle\n",
    "import re\n",
    "import pandas as pd  \n",
    "import numpy as np\n",
    "\n",
    "import matplotlib.pyplot as plt\n",
    "import matplotlib.ticker as mtick\n",
    "plt.rcParams['figure.figsize'] = [20, 7]\n",
    "\n",
    "from nltk.tokenize import TweetTokenizer\n",
    "from nltk.corpus import stopwords\n",
    "from nltk.stem import WordNetLemmatizer\n",
    "from nltk.stem import SnowballStemmer\n",
    "\n",
    "from sklearn.model_selection import train_test_split\n",
    "from sklearn.feature_extraction.text import TfidfVectorizer\n",
    "from sklearn.metrics import accuracy_score, f1_score\n",
    "\n",
    "from tensorflow.keras.models import Sequential\n",
    "from tensorflow.keras.layers import Dense, Dropout\n",
    "from tensorflow.keras.layers import Flatten\n",
    "from keras.layers.embeddings import Embedding\n",
    "from tensorflow.keras.preprocessing import sequence\n",
    "from tensorflow.keras import optimizers\n",
    "import tensorflow.keras\n",
    "from tensorflow.keras.wrappers.scikit_learn import KerasClassifier\n",
    "\n",
    "import spacy\n",
    "import spacy_spanish_lemmatizer\n",
    "\n",
    "from scipy import sparse\n",
    "from scipy import stats\n",
    "\n",
    "from modAL.models import ActiveLearner\n",
    "from modAL import uncertainty\n",
    "\n",
    "import warnings\n",
    "warnings.filterwarnings('ignore')"
   ]
  },
  {
   "cell_type": "code",
   "execution_count": 3,
   "id": "d9db61c5",
   "metadata": {
    "scrolled": true
   },
   "outputs": [],
   "source": [
    "pic = open('spanish_tweets.pickle', 'rb')\n",
    "data = pickle.load(pic)\n",
    "pic.close()"
   ]
  },
  {
   "cell_type": "code",
   "execution_count": 4,
   "id": "0775fe57",
   "metadata": {},
   "outputs": [
    {
     "data": {
      "text/html": [
       "<div>\n",
       "<style scoped>\n",
       "    .dataframe tbody tr th:only-of-type {\n",
       "        vertical-align: middle;\n",
       "    }\n",
       "\n",
       "    .dataframe tbody tr th {\n",
       "        vertical-align: top;\n",
       "    }\n",
       "\n",
       "    .dataframe thead th {\n",
       "        text-align: right;\n",
       "    }\n",
       "</style>\n",
       "<table border=\"1\" class=\"dataframe\">\n",
       "  <thead>\n",
       "    <tr style=\"text-align: right;\">\n",
       "      <th></th>\n",
       "      <th>user</th>\n",
       "      <th>content</th>\n",
       "      <th>date</th>\n",
       "      <th>lang</th>\n",
       "      <th>sentiment</th>\n",
       "    </tr>\n",
       "  </thead>\n",
       "  <tbody>\n",
       "    <tr>\n",
       "      <th>767817507897872385</th>\n",
       "      <td>71463624</td>\n",
       "      <td>— ¿Nivel de inglés? — Alto. — Traduzca juguete...</td>\n",
       "      <td>Mon Aug 22 20:15:33 +0000 2016</td>\n",
       "      <td>es</td>\n",
       "      <td>NEU</td>\n",
       "    </tr>\n",
       "    <tr>\n",
       "      <th>772486813948575745</th>\n",
       "      <td>572924309</td>\n",
       "      <td>Si soy de área 4 y con suerte pase mate IV y m...</td>\n",
       "      <td>Sun Sep 04 17:29:43 +0000 2016</td>\n",
       "      <td>es</td>\n",
       "      <td>N</td>\n",
       "    </tr>\n",
       "    <tr>\n",
       "      <th>771871884451295233</th>\n",
       "      <td>158142748</td>\n",
       "      <td>Sabían que su after fav Teatro G. fue construi...</td>\n",
       "      <td>Sat Sep 03 00:46:12 +0000 2016</td>\n",
       "      <td>es</td>\n",
       "      <td>P</td>\n",
       "    </tr>\n",
       "    <tr>\n",
       "      <th>771947976302456832</th>\n",
       "      <td>132254421</td>\n",
       "      <td>Y hoy por primera vez me salí con el permiso d...</td>\n",
       "      <td>Sat Sep 03 05:48:34 +0000 2016</td>\n",
       "      <td>es</td>\n",
       "      <td>P</td>\n",
       "    </tr>\n",
       "    <tr>\n",
       "      <th>774741645484896256</th>\n",
       "      <td>105530236</td>\n",
       "      <td>¿Para qué hacen coraje con Ambriz?, al final n...</td>\n",
       "      <td>Sat Sep 10 22:49:36 +0000 2016</td>\n",
       "      <td>es</td>\n",
       "      <td>N</td>\n",
       "    </tr>\n",
       "    <tr>\n",
       "      <th>...</th>\n",
       "      <td>...</td>\n",
       "      <td>...</td>\n",
       "      <td>...</td>\n",
       "      <td>...</td>\n",
       "      <td>...</td>\n",
       "    </tr>\n",
       "    <tr>\n",
       "      <th>811436261059792896</th>\n",
       "      <td>2227486286</td>\n",
       "      <td>@AmorAKilates @Roocio_Mk si me pasa lo mismo!</td>\n",
       "      <td>Wed Dec 21 05:00:55 +0000 2016</td>\n",
       "      <td>es</td>\n",
       "      <td>NONE</td>\n",
       "    </tr>\n",
       "    <tr>\n",
       "      <th>809280785182322688</th>\n",
       "      <td>140260506</td>\n",
       "      <td>@clauchoarrionda pquno ladra y ls demas retwitean</td>\n",
       "      <td>Thu Dec 15 06:15:49 +0000 2016</td>\n",
       "      <td>es</td>\n",
       "      <td>NEU</td>\n",
       "    </tr>\n",
       "    <tr>\n",
       "      <th>810772298911350784</th>\n",
       "      <td>3291225459</td>\n",
       "      <td>A mi desayuno le hizo falta un alfajor podrida...</td>\n",
       "      <td>Mon Dec 19 09:02:34 +0000 2016</td>\n",
       "      <td>es</td>\n",
       "      <td>N</td>\n",
       "    </tr>\n",
       "    <tr>\n",
       "      <th>813200690894045184</th>\n",
       "      <td>2257050336</td>\n",
       "      <td>Viste cuando necesitas que alguien te escuche ...</td>\n",
       "      <td>Mon Dec 26 01:52:07 +0000 2016</td>\n",
       "      <td>es</td>\n",
       "      <td>N</td>\n",
       "    </tr>\n",
       "    <tr>\n",
       "      <th>813476406248275968</th>\n",
       "      <td>707984087085129729</td>\n",
       "      <td>@cuervotinelli @candetinelli Mañana es mi prim...</td>\n",
       "      <td>Mon Dec 26 20:07:43 +0000 2016</td>\n",
       "      <td>es</td>\n",
       "      <td>NEU</td>\n",
       "    </tr>\n",
       "  </tbody>\n",
       "</table>\n",
       "<p>4800 rows × 5 columns</p>\n",
       "</div>"
      ],
      "text/plain": [
       "                                  user  \\\n",
       "767817507897872385            71463624   \n",
       "772486813948575745           572924309   \n",
       "771871884451295233           158142748   \n",
       "771947976302456832           132254421   \n",
       "774741645484896256           105530236   \n",
       "...                                ...   \n",
       "811436261059792896          2227486286   \n",
       "809280785182322688           140260506   \n",
       "810772298911350784          3291225459   \n",
       "813200690894045184          2257050336   \n",
       "813476406248275968  707984087085129729   \n",
       "\n",
       "                                                              content  \\\n",
       "767817507897872385  — ¿Nivel de inglés? — Alto. — Traduzca juguete...   \n",
       "772486813948575745  Si soy de área 4 y con suerte pase mate IV y m...   \n",
       "771871884451295233  Sabían que su after fav Teatro G. fue construi...   \n",
       "771947976302456832  Y hoy por primera vez me salí con el permiso d...   \n",
       "774741645484896256  ¿Para qué hacen coraje con Ambriz?, al final n...   \n",
       "...                                                               ...   \n",
       "811436261059792896      @AmorAKilates @Roocio_Mk si me pasa lo mismo!   \n",
       "809280785182322688  @clauchoarrionda pquno ladra y ls demas retwitean   \n",
       "810772298911350784  A mi desayuno le hizo falta un alfajor podrida...   \n",
       "813200690894045184  Viste cuando necesitas que alguien te escuche ...   \n",
       "813476406248275968  @cuervotinelli @candetinelli Mañana es mi prim...   \n",
       "\n",
       "                                              date lang sentiment  \n",
       "767817507897872385  Mon Aug 22 20:15:33 +0000 2016   es       NEU  \n",
       "772486813948575745  Sun Sep 04 17:29:43 +0000 2016   es         N  \n",
       "771871884451295233  Sat Sep 03 00:46:12 +0000 2016   es         P  \n",
       "771947976302456832  Sat Sep 03 05:48:34 +0000 2016   es         P  \n",
       "774741645484896256  Sat Sep 10 22:49:36 +0000 2016   es         N  \n",
       "...                                            ...  ...       ...  \n",
       "811436261059792896  Wed Dec 21 05:00:55 +0000 2016   es      NONE  \n",
       "809280785182322688  Thu Dec 15 06:15:49 +0000 2016   es       NEU  \n",
       "810772298911350784  Mon Dec 19 09:02:34 +0000 2016   es         N  \n",
       "813200690894045184  Mon Dec 26 01:52:07 +0000 2016   es         N  \n",
       "813476406248275968  Mon Dec 26 20:07:43 +0000 2016   es       NEU  \n",
       "\n",
       "[4800 rows x 5 columns]"
      ]
     },
     "execution_count": 4,
     "metadata": {},
     "output_type": "execute_result"
    }
   ],
   "source": [
    "data"
   ]
  },
  {
   "cell_type": "code",
   "execution_count": 5,
   "id": "95546637",
   "metadata": {},
   "outputs": [
    {
     "data": {
      "text/plain": [
       "user    inf\n",
       "dtype: float64"
      ]
     },
     "execution_count": 5,
     "metadata": {},
     "output_type": "execute_result"
    }
   ],
   "source": [
    "data.mean()"
   ]
  },
  {
   "cell_type": "code",
   "execution_count": 6,
   "id": "b5dbb757",
   "metadata": {},
   "outputs": [
    {
     "name": "stdout",
     "output_type": "stream",
     "text": [
      "['nivel inglés alto traduzca juguete toy u él él oración toy triste awww vengache pa acá', 'si área suerte pasar mate mate poner profe qlero mega difícil pasar último año', 'saber after fav teatro g construido día hoy ir dar placer vean ahí metido', 'hoy primero vez salir permiso mujer detalle si saber q lado q llegar casa', 'hacer coraje ambriz final ir correr salir típico frase culpa jugador', 'mamá nunca dejar disfrutar juventud mamá felipe llegar borracho año ayñ mamá', 'poder dormir despertar madrugada volver recurrente padre así', 'arrimar gustar entrepierna amor guardar pepino pene tanto grande ay', 'lejos lejos lejos manejar acá padre diferente q mal q feria caballo pq si quedar XD', 'ver cuanto akatsuki salir gaara imbécil sasuke primero episiodio', 'vida eterno dilema mejor dormir mañana terminar ingue voa desvelar morir acabar vez', 'ir ir dash cortado color piel color langosta hora sueño día permitir', 'cómo ir ver sputnik tampoco ir ir aguascalientes rebel tocar little va ex boletos wwe', 'buen dia elegir q cada dia milagro dia lleno armonia luz amor buena vibra elegir ser feliz', 'medalla oro phelps seleccion mexicano fut ganar hacer año ah queee nadamás vale avisen yo', 'taco decir güera joven decir piña taco salsa enchilar carne', 'traer hacer hora pinche basurita ojo nomás quita fuir lavar soplar ahí seguir', 'persona decir julio sera fin saber acercar dos fin fin mes fin semana buen día', 'hecho dar alejandra zavala finta alejandra leer apellido pensar tiro arco', 'dios sorprendido semana caja cafe cosa tesis venir cosa mejor sige maestría xd']\n"
     ]
    }
   ],
   "source": [
    "cleaned = []\n",
    "tknz = TweetTokenizer(strip_handles = True, reduce_len = True)\n",
    "lemwn = WordNetLemmatizer()\n",
    "nlp = spacy.load('es_dep_news_trf')\n",
    "\n",
    "for tweet in data['content']:\n",
    "    \n",
    "    text = []\n",
    "    # Tokenizes the tweet\n",
    "    text = tknz.tokenize(tweet)\n",
    "    \n",
    "    # Eliminates punctuations, roman numbers, and lowcaps every letter.\n",
    "    nptext = []\n",
    "    for token in text:\n",
    "        new_token = re.sub('[^\\w\\s]', '', token)\n",
    "        new_token = re.sub('^(?=[MDCLXVI])M*(C[MD]|D?C*)(X[CL]|L?X*)(I[XV]|V?I*)$', '', new_token)\n",
    "        new_token = new_token.lower()\n",
    "\n",
    "        \n",
    "\n",
    "        new_token = re.sub('(?:^|\\W)ja(?:$|\\W)', 'XD', new_token)\n",
    "        new_token = re.sub('(?:^|\\W)jaja(?:$|\\W)', 'XD', new_token)\n",
    "        new_token = re.sub('(?:^|\\W)jajaja(?:$|\\W)', 'XD', new_token)\n",
    "        new_token = re.sub('(?:^|\\W)jajajaja(?:$|\\W)', 'XD', new_token)\n",
    "        new_token = re.sub('(?:^|\\W)jajajajaja(?:$|\\W)', 'XD', new_token)\n",
    "        new_token = re.sub('(?:^|\\W)jajajajajajaja(?:$|\\W)', 'XD', new_token)\n",
    "        new_token = re.sub('(?:^|\\W)jajajajajajajaja(?:$|\\W)', 'XD', new_token)\n",
    "        new_token = re.sub('(?:^|\\W)jajajajajajajajaja(?:$|\\W)', 'XD', new_token)\n",
    "        new_token = re.sub('(?:^|\\W)ji(?:$|\\W)', 'XD', new_token)\n",
    "        new_token = re.sub('(?:^|\\W)jiji(?:$|\\W)', 'XD', new_token)\n",
    "        new_token = re.sub('(?:^|\\W)jijiji(?:$|\\W)', 'XD', new_token)\n",
    "        new_token = re.sub('(?:^|\\W)jijijiji(?:$|\\W)', 'XD', new_token)\n",
    "        new_token = re.sub('(?:^|\\W)jijijijiji(?:$|\\W)', 'XD', new_token)\n",
    "        new_token = re.sub('(?:^|\\W)jijijijijijiji(?:$|\\W)', 'XD', new_token)\n",
    "        new_token = re.sub('(?:^|\\W)jijijijijijijiji(?:$|\\W)', 'XD', new_token)\n",
    "        new_token = re.sub('(?:^|\\W)jijijijijijijijiji(?:$|\\W)', 'XD', new_token)\n",
    "\n",
    "        \n",
    "        if not new_token == '':\n",
    "            nptext.append(new_token)\n",
    "    text = nptext\n",
    "    \n",
    "    # Eliminates arabic numbers\n",
    "    text = [x for x in text if not x.isnumeric()]\n",
    "    \n",
    "    # Eliminates stop words\n",
    "    stops = set(stopwords.words('spanish')) #are all lower case\n",
    "    text = [token for token in text if token not in stops]\n",
    "    \n",
    "    # De-tokenize the list and puts everything into a string.\n",
    "    string = ' '.join(text)\n",
    "\n",
    "    # lemmatization\n",
    "    text = []\n",
    "    for i, token in enumerate(nlp(string)):\n",
    "        text.append(token.lemma_)\n",
    "\n",
    "    # De-tokenize the list and puts everything into a string.\n",
    "    string = ' '.join(text)\n",
    "    \n",
    "    # Cleaned string appendization to the list of cleaned tweets\n",
    "    cleaned.append(string)\n",
    "    \n",
    "print(cleaned[:20])"
   ]
  },
  {
   "cell_type": "code",
   "execution_count": 7,
   "id": "a52925b8",
   "metadata": {},
   "outputs": [
    {
     "data": {
      "text/html": [
       "<div>\n",
       "<style scoped>\n",
       "    .dataframe tbody tr th:only-of-type {\n",
       "        vertical-align: middle;\n",
       "    }\n",
       "\n",
       "    .dataframe tbody tr th {\n",
       "        vertical-align: top;\n",
       "    }\n",
       "\n",
       "    .dataframe thead th {\n",
       "        text-align: right;\n",
       "    }\n",
       "</style>\n",
       "<table border=\"1\" class=\"dataframe\">\n",
       "  <thead>\n",
       "    <tr style=\"text-align: right;\">\n",
       "      <th></th>\n",
       "      <th>user</th>\n",
       "      <th>content</th>\n",
       "      <th>cleanned_content</th>\n",
       "      <th>date</th>\n",
       "      <th>lang</th>\n",
       "      <th>sentiment</th>\n",
       "    </tr>\n",
       "  </thead>\n",
       "  <tbody>\n",
       "    <tr>\n",
       "      <th>767817507897872385</th>\n",
       "      <td>71463624</td>\n",
       "      <td>— ¿Nivel de inglés? — Alto. — Traduzca juguete...</td>\n",
       "      <td>nivel inglés alto traduzca juguete toy u él él...</td>\n",
       "      <td>Mon Aug 22 20:15:33 +0000 2016</td>\n",
       "      <td>es</td>\n",
       "      <td>NEU</td>\n",
       "    </tr>\n",
       "    <tr>\n",
       "      <th>772486813948575745</th>\n",
       "      <td>572924309</td>\n",
       "      <td>Si soy de área 4 y con suerte pase mate IV y m...</td>\n",
       "      <td>si área suerte pasar mate mate poner profe qle...</td>\n",
       "      <td>Sun Sep 04 17:29:43 +0000 2016</td>\n",
       "      <td>es</td>\n",
       "      <td>N</td>\n",
       "    </tr>\n",
       "    <tr>\n",
       "      <th>771871884451295233</th>\n",
       "      <td>158142748</td>\n",
       "      <td>Sabían que su after fav Teatro G. fue construi...</td>\n",
       "      <td>saber after fav teatro g construido día hoy ir...</td>\n",
       "      <td>Sat Sep 03 00:46:12 +0000 2016</td>\n",
       "      <td>es</td>\n",
       "      <td>P</td>\n",
       "    </tr>\n",
       "    <tr>\n",
       "      <th>771947976302456832</th>\n",
       "      <td>132254421</td>\n",
       "      <td>Y hoy por primera vez me salí con el permiso d...</td>\n",
       "      <td>hoy primero vez salir permiso mujer detalle si...</td>\n",
       "      <td>Sat Sep 03 05:48:34 +0000 2016</td>\n",
       "      <td>es</td>\n",
       "      <td>P</td>\n",
       "    </tr>\n",
       "    <tr>\n",
       "      <th>774741645484896256</th>\n",
       "      <td>105530236</td>\n",
       "      <td>¿Para qué hacen coraje con Ambriz?, al final n...</td>\n",
       "      <td>hacer coraje ambriz final ir correr salir típi...</td>\n",
       "      <td>Sat Sep 10 22:49:36 +0000 2016</td>\n",
       "      <td>es</td>\n",
       "      <td>N</td>\n",
       "    </tr>\n",
       "    <tr>\n",
       "      <th>...</th>\n",
       "      <td>...</td>\n",
       "      <td>...</td>\n",
       "      <td>...</td>\n",
       "      <td>...</td>\n",
       "      <td>...</td>\n",
       "      <td>...</td>\n",
       "    </tr>\n",
       "    <tr>\n",
       "      <th>811436261059792896</th>\n",
       "      <td>2227486286</td>\n",
       "      <td>@AmorAKilates @Roocio_Mk si me pasa lo mismo!</td>\n",
       "      <td>si pasar mismo</td>\n",
       "      <td>Wed Dec 21 05:00:55 +0000 2016</td>\n",
       "      <td>es</td>\n",
       "      <td>NONE</td>\n",
       "    </tr>\n",
       "    <tr>\n",
       "      <th>809280785182322688</th>\n",
       "      <td>140260506</td>\n",
       "      <td>@clauchoarrionda pquno ladra y ls demas retwitean</td>\n",
       "      <td>pquno ladra ls demas retwitear</td>\n",
       "      <td>Thu Dec 15 06:15:49 +0000 2016</td>\n",
       "      <td>es</td>\n",
       "      <td>NEU</td>\n",
       "    </tr>\n",
       "    <tr>\n",
       "      <th>810772298911350784</th>\n",
       "      <td>3291225459</td>\n",
       "      <td>A mi desayuno le hizo falta un alfajor podrida...</td>\n",
       "      <td>desayuno hacer falta alfajor podrido galleta a...</td>\n",
       "      <td>Mon Dec 19 09:02:34 +0000 2016</td>\n",
       "      <td>es</td>\n",
       "      <td>N</td>\n",
       "    </tr>\n",
       "    <tr>\n",
       "      <th>813200690894045184</th>\n",
       "      <td>2257050336</td>\n",
       "      <td>Viste cuando necesitas que alguien te escuche ...</td>\n",
       "      <td>ver necesitar alguien escuchar alguien bueno</td>\n",
       "      <td>Mon Dec 26 01:52:07 +0000 2016</td>\n",
       "      <td>es</td>\n",
       "      <td>N</td>\n",
       "    </tr>\n",
       "    <tr>\n",
       "      <th>813476406248275968</th>\n",
       "      <td>707984087085129729</td>\n",
       "      <td>@cuervotinelli @candetinelli Mañana es mi prim...</td>\n",
       "      <td>mañana primero sesión vamo tapar tajo</td>\n",
       "      <td>Mon Dec 26 20:07:43 +0000 2016</td>\n",
       "      <td>es</td>\n",
       "      <td>NEU</td>\n",
       "    </tr>\n",
       "  </tbody>\n",
       "</table>\n",
       "<p>4800 rows × 6 columns</p>\n",
       "</div>"
      ],
      "text/plain": [
       "                                  user  \\\n",
       "767817507897872385            71463624   \n",
       "772486813948575745           572924309   \n",
       "771871884451295233           158142748   \n",
       "771947976302456832           132254421   \n",
       "774741645484896256           105530236   \n",
       "...                                ...   \n",
       "811436261059792896          2227486286   \n",
       "809280785182322688           140260506   \n",
       "810772298911350784          3291225459   \n",
       "813200690894045184          2257050336   \n",
       "813476406248275968  707984087085129729   \n",
       "\n",
       "                                                              content  \\\n",
       "767817507897872385  — ¿Nivel de inglés? — Alto. — Traduzca juguete...   \n",
       "772486813948575745  Si soy de área 4 y con suerte pase mate IV y m...   \n",
       "771871884451295233  Sabían que su after fav Teatro G. fue construi...   \n",
       "771947976302456832  Y hoy por primera vez me salí con el permiso d...   \n",
       "774741645484896256  ¿Para qué hacen coraje con Ambriz?, al final n...   \n",
       "...                                                               ...   \n",
       "811436261059792896      @AmorAKilates @Roocio_Mk si me pasa lo mismo!   \n",
       "809280785182322688  @clauchoarrionda pquno ladra y ls demas retwitean   \n",
       "810772298911350784  A mi desayuno le hizo falta un alfajor podrida...   \n",
       "813200690894045184  Viste cuando necesitas que alguien te escuche ...   \n",
       "813476406248275968  @cuervotinelli @candetinelli Mañana es mi prim...   \n",
       "\n",
       "                                                     cleanned_content  \\\n",
       "767817507897872385  nivel inglés alto traduzca juguete toy u él él...   \n",
       "772486813948575745  si área suerte pasar mate mate poner profe qle...   \n",
       "771871884451295233  saber after fav teatro g construido día hoy ir...   \n",
       "771947976302456832  hoy primero vez salir permiso mujer detalle si...   \n",
       "774741645484896256  hacer coraje ambriz final ir correr salir típi...   \n",
       "...                                                               ...   \n",
       "811436261059792896                                     si pasar mismo   \n",
       "809280785182322688                     pquno ladra ls demas retwitear   \n",
       "810772298911350784  desayuno hacer falta alfajor podrido galleta a...   \n",
       "813200690894045184       ver necesitar alguien escuchar alguien bueno   \n",
       "813476406248275968              mañana primero sesión vamo tapar tajo   \n",
       "\n",
       "                                              date lang sentiment  \n",
       "767817507897872385  Mon Aug 22 20:15:33 +0000 2016   es       NEU  \n",
       "772486813948575745  Sun Sep 04 17:29:43 +0000 2016   es         N  \n",
       "771871884451295233  Sat Sep 03 00:46:12 +0000 2016   es         P  \n",
       "771947976302456832  Sat Sep 03 05:48:34 +0000 2016   es         P  \n",
       "774741645484896256  Sat Sep 10 22:49:36 +0000 2016   es         N  \n",
       "...                                            ...  ...       ...  \n",
       "811436261059792896  Wed Dec 21 05:00:55 +0000 2016   es      NONE  \n",
       "809280785182322688  Thu Dec 15 06:15:49 +0000 2016   es       NEU  \n",
       "810772298911350784  Mon Dec 19 09:02:34 +0000 2016   es         N  \n",
       "813200690894045184  Mon Dec 26 01:52:07 +0000 2016   es         N  \n",
       "813476406248275968  Mon Dec 26 20:07:43 +0000 2016   es       NEU  \n",
       "\n",
       "[4800 rows x 6 columns]"
      ]
     },
     "execution_count": 7,
     "metadata": {},
     "output_type": "execute_result"
    }
   ],
   "source": [
    "data.insert(loc = 2, value = cleaned, column = 'cleanned_content')\n",
    "data"
   ]
  },
  {
   "cell_type": "code",
   "execution_count": 8,
   "id": "7e88d80c",
   "metadata": {},
   "outputs": [
    {
     "data": {
      "text/html": [
       "<div>\n",
       "<style scoped>\n",
       "    .dataframe tbody tr th:only-of-type {\n",
       "        vertical-align: middle;\n",
       "    }\n",
       "\n",
       "    .dataframe tbody tr th {\n",
       "        vertical-align: top;\n",
       "    }\n",
       "\n",
       "    .dataframe thead th {\n",
       "        text-align: right;\n",
       "    }\n",
       "</style>\n",
       "<table border=\"1\" class=\"dataframe\">\n",
       "  <thead>\n",
       "    <tr style=\"text-align: right;\">\n",
       "      <th></th>\n",
       "      <th>cleanned_content</th>\n",
       "      <th>sentiment</th>\n",
       "    </tr>\n",
       "  </thead>\n",
       "  <tbody>\n",
       "    <tr>\n",
       "      <th>772486813948575745</th>\n",
       "      <td>si área suerte pasar mate mate poner profe qle...</td>\n",
       "      <td>0</td>\n",
       "    </tr>\n",
       "    <tr>\n",
       "      <th>771871884451295233</th>\n",
       "      <td>saber after fav teatro g construido día hoy ir...</td>\n",
       "      <td>1</td>\n",
       "    </tr>\n",
       "    <tr>\n",
       "      <th>771947976302456832</th>\n",
       "      <td>hoy primero vez salir permiso mujer detalle si...</td>\n",
       "      <td>1</td>\n",
       "    </tr>\n",
       "    <tr>\n",
       "      <th>774741645484896256</th>\n",
       "      <td>hacer coraje ambriz final ir correr salir típi...</td>\n",
       "      <td>0</td>\n",
       "    </tr>\n",
       "    <tr>\n",
       "      <th>773634625126043649</th>\n",
       "      <td>mamá nunca dejar disfrutar juventud mamá felip...</td>\n",
       "      <td>0</td>\n",
       "    </tr>\n",
       "    <tr>\n",
       "      <th>...</th>\n",
       "      <td>...</td>\n",
       "      <td>...</td>\n",
       "    </tr>\n",
       "    <tr>\n",
       "      <th>810851272660230144</th>\n",
       "      <td>xd mucho gracia buen onda implicado</td>\n",
       "      <td>1</td>\n",
       "    </tr>\n",
       "    <tr>\n",
       "      <th>810740258035924992</th>\n",
       "      <td>fútbol hermoso cdo juntar talento este</td>\n",
       "      <td>1</td>\n",
       "    </tr>\n",
       "    <tr>\n",
       "      <th>810446500920782848</th>\n",
       "      <td>felizdomingo paz dios llenar vida bello día be...</td>\n",
       "      <td>1</td>\n",
       "    </tr>\n",
       "    <tr>\n",
       "      <th>810772298911350784</th>\n",
       "      <td>desayuno hacer falta alfajor podrido galleta a...</td>\n",
       "      <td>0</td>\n",
       "    </tr>\n",
       "    <tr>\n",
       "      <th>813200690894045184</th>\n",
       "      <td>ver necesitar alguien escuchar alguien bueno</td>\n",
       "      <td>0</td>\n",
       "    </tr>\n",
       "  </tbody>\n",
       "</table>\n",
       "<p>3277 rows × 2 columns</p>\n",
       "</div>"
      ],
      "text/plain": [
       "                                                     cleanned_content  \\\n",
       "772486813948575745  si área suerte pasar mate mate poner profe qle...   \n",
       "771871884451295233  saber after fav teatro g construido día hoy ir...   \n",
       "771947976302456832  hoy primero vez salir permiso mujer detalle si...   \n",
       "774741645484896256  hacer coraje ambriz final ir correr salir típi...   \n",
       "773634625126043649  mamá nunca dejar disfrutar juventud mamá felip...   \n",
       "...                                                               ...   \n",
       "810851272660230144                xd mucho gracia buen onda implicado   \n",
       "810740258035924992             fútbol hermoso cdo juntar talento este   \n",
       "810446500920782848  felizdomingo paz dios llenar vida bello día be...   \n",
       "810772298911350784  desayuno hacer falta alfajor podrido galleta a...   \n",
       "813200690894045184       ver necesitar alguien escuchar alguien bueno   \n",
       "\n",
       "                    sentiment  \n",
       "772486813948575745          0  \n",
       "771871884451295233          1  \n",
       "771947976302456832          1  \n",
       "774741645484896256          0  \n",
       "773634625126043649          0  \n",
       "...                       ...  \n",
       "810851272660230144          1  \n",
       "810740258035924992          1  \n",
       "810446500920782848          1  \n",
       "810772298911350784          0  \n",
       "813200690894045184          0  \n",
       "\n",
       "[3277 rows x 2 columns]"
      ]
     },
     "execution_count": 8,
     "metadata": {},
     "output_type": "execute_result"
    }
   ],
   "source": [
    "cdata = data[['cleanned_content', 'sentiment']]\n",
    "cdata = cdata.loc[cdata['sentiment'] != 'NONE']\n",
    "cdata = cdata.loc[cdata['sentiment'] != 'NEU']\n",
    "cdata['sentiment'].replace({'N': 0, 'P': 1}, inplace=True)\n",
    "cdata"
   ]
  },
  {
   "cell_type": "code",
   "execution_count": 9,
   "id": "873d3d4f",
   "metadata": {},
   "outputs": [
    {
     "data": {
      "text/plain": [
       "sentiment    0.425084\n",
       "dtype: float64"
      ]
     },
     "execution_count": 9,
     "metadata": {},
     "output_type": "execute_result"
    }
   ],
   "source": [
    "cdata.mean()"
   ]
  },
  {
   "cell_type": "code",
   "execution_count": 10,
   "id": "490f3b65",
   "metadata": {},
   "outputs": [],
   "source": [
    "x = cdata.cleanned_content\n",
    "y = cdata.sentiment"
   ]
  },
  {
   "cell_type": "code",
   "execution_count": 11,
   "id": "b925ca2b",
   "metadata": {},
   "outputs": [],
   "source": [
    "SEED = 2000\n",
    "x_train, x_validation, y_train, y_validation = train_test_split(x, y, test_size=.2, random_state=SEED)\n",
    "#x_validation, x_test, y_validation, y_test = train_test_split(x_validation_and_test, y_validation_and_test, test_size=.5, random_state=SEED)"
   ]
  },
  {
   "cell_type": "code",
   "execution_count": null,
   "id": "4d7dc9ae",
   "metadata": {},
   "outputs": [],
   "source": []
  },
  {
   "cell_type": "code",
   "execution_count": 12,
   "id": "5336ee74",
   "metadata": {},
   "outputs": [],
   "source": [
    "#print(\"Train set has total {0} entries with {1:.2f}% negative, {2:.2f}% positive, {3:.2f}% neutral\".format(len(x_train), (len(x_train[y_train == -1]) / (len(x_train)*1.))*100, (len(x_train[y_train == 1]) / (len(x_train)*1.))*100, (len(x_train[y_train == 0]) / (len(x_train)*1.))*100))\n",
    "#print(\"Validation set has total {0} entries with {1:.2f}% negative, {2:.2f}% positive, {3:.2f}% neutral\".format(len(x_validation), (len(x_validation[y_validation == -1]) / (len(x_validation)*1.))*100, (len(x_validation[y_validation == 1]) / (len(x_validation)*1.))*100, (len(x_validation[y_validation == 0]) / (len(x_validation)*1.))*100))\n",
    "#print(\"Test set has total {0} entries with {1:.2f}% negative, {2:.2f}% positive, {3:.2f}% neutral\".format(len(x_test), (len(x_test[y_test == -1]) / (len(x_test)*1.))*100, (len(x_test[y_test == 1]) / (len(x_test)*1.))*100, (len(x_test[y_test == 0]) / (len(x_test)*1.))*100))"
   ]
  },
  {
   "cell_type": "code",
   "execution_count": 13,
   "id": "71cab769",
   "metadata": {},
   "outputs": [
    {
     "data": {
      "text/plain": [
       "TfidfVectorizer(max_features=2000, ngram_range=(1, 3))"
      ]
     },
     "execution_count": 13,
     "metadata": {},
     "output_type": "execute_result"
    }
   ],
   "source": [
    "tvec1 = TfidfVectorizer(max_features=2000,ngram_range=(1, 3))\n",
    "tvec1.fit(x_train)"
   ]
  },
  {
   "cell_type": "code",
   "execution_count": 14,
   "id": "bb62c298",
   "metadata": {},
   "outputs": [],
   "source": [
    "x_train_tfidf = tvec1.transform(x_train)"
   ]
  },
  {
   "cell_type": "code",
   "execution_count": 15,
   "id": "190683cb",
   "metadata": {},
   "outputs": [
    {
     "data": {
      "text/plain": [
       "TfidfVectorizer(max_features=2000, ngram_range=(1, 3))"
      ]
     },
     "execution_count": 15,
     "metadata": {},
     "output_type": "execute_result"
    }
   ],
   "source": [
    "tvec2 = TfidfVectorizer(max_features=2000,ngram_range=(1, 3))\n",
    "tvec2.fit(x_validation)"
   ]
  },
  {
   "cell_type": "code",
   "execution_count": 16,
   "id": "69c8f5d3",
   "metadata": {},
   "outputs": [],
   "source": [
    "x_validation_tfidf = tvec1.transform(x_validation).toarray()"
   ]
  },
  {
   "cell_type": "code",
   "execution_count": 17,
   "id": "938fd99c",
   "metadata": {},
   "outputs": [
    {
     "name": "stdout",
     "output_type": "stream",
     "text": [
      "Wall time: 560 ms\n"
     ]
    },
    {
     "data": {
      "text/plain": [
       "LogisticRegression()"
      ]
     },
     "execution_count": 17,
     "metadata": {},
     "output_type": "execute_result"
    }
   ],
   "source": [
    "%%time\n",
    "from sklearn.linear_model import LogisticRegression\n",
    "clf = LogisticRegression()\n",
    "clf.fit(x_train_tfidf, y_train)"
   ]
  },
  {
   "cell_type": "code",
   "execution_count": 18,
   "id": "532f0644",
   "metadata": {},
   "outputs": [
    {
     "data": {
      "text/plain": [
       "0.7454268292682927"
      ]
     },
     "execution_count": 18,
     "metadata": {},
     "output_type": "execute_result"
    }
   ],
   "source": [
    "clf.score(x_validation_tfidf, y_validation)"
   ]
  },
  {
   "cell_type": "code",
   "execution_count": 19,
   "id": "1eb98304",
   "metadata": {},
   "outputs": [
    {
     "data": {
      "text/plain": [
       "0.8641739793971767"
      ]
     },
     "execution_count": 19,
     "metadata": {},
     "output_type": "execute_result"
    }
   ],
   "source": [
    "clf.score(x_train_tfidf, y_train)"
   ]
  },
  {
   "cell_type": "code",
   "execution_count": 20,
   "id": "4007c92b",
   "metadata": {},
   "outputs": [],
   "source": [
    "seed = 7\n",
    "np.random.seed(seed)"
   ]
  },
  {
   "cell_type": "markdown",
   "id": "b1355073",
   "metadata": {},
   "source": [
    "# Original Model"
   ]
  },
  {
   "cell_type": "code",
   "execution_count": 21,
   "id": "d32540af",
   "metadata": {},
   "outputs": [],
   "source": [
    "def batch_generator(X_data, y_data, batch_size):\n",
    "    samples_per_epoch = X_data.shape[0]\n",
    "    number_of_batches = samples_per_epoch/batch_size\n",
    "    counter=0\n",
    "    index = np.arange(np.shape(y_data)[0])\n",
    "    while 1:\n",
    "        index_batch = index[batch_size*counter:batch_size*(counter+1)]\n",
    "        X_batch = X_data[index_batch,:].toarray()\n",
    "        y_batch = y_data[y_data.index[index_batch]]\n",
    "        counter += 1\n",
    "        yield np.array(X_batch), np.array(y_batch)\n",
    "        if (counter > number_of_batches):\n",
    "            counter=0"
   ]
  },
  {
   "cell_type": "code",
   "execution_count": 22,
   "id": "9fcfa501",
   "metadata": {},
   "outputs": [
    {
     "name": "stdout",
     "output_type": "stream",
     "text": [
      "Epoch 1/25\n",
      "81/81 [==============================] - 2s 7ms/step - loss: 0.6939 - accuracy: 0.5349 - val_loss: 0.6885 - val_accuracy: 0.5457\n",
      "Epoch 2/25\n",
      "81/81 [==============================] - 0s 2ms/step - loss: 0.6865 - accuracy: 0.5654 - val_loss: 0.6873 - val_accuracy: 0.5457\n",
      "Epoch 3/25\n",
      "81/81 [==============================] - 0s 1ms/step - loss: 0.6805 - accuracy: 0.5792 - val_loss: 0.6854 - val_accuracy: 0.5457\n",
      "Epoch 4/25\n",
      "81/81 [==============================] - 0s 1ms/step - loss: 0.6816 - accuracy: 0.5887 - val_loss: 0.6837 - val_accuracy: 0.5457\n",
      "Epoch 5/25\n",
      "81/81 [==============================] - 0s 1ms/step - loss: 0.6768 - accuracy: 0.5845 - val_loss: 0.6815 - val_accuracy: 0.5457\n",
      "Epoch 6/25\n",
      "81/81 [==============================] - 0s 1ms/step - loss: 0.6746 - accuracy: 0.5910 - val_loss: 0.6787 - val_accuracy: 0.5457\n",
      "Epoch 7/25\n",
      "81/81 [==============================] - 0s 1ms/step - loss: 0.6689 - accuracy: 0.5933 - val_loss: 0.6730 - val_accuracy: 0.5457\n",
      "Epoch 8/25\n",
      "81/81 [==============================] - 0s 2ms/step - loss: 0.6560 - accuracy: 0.6074 - val_loss: 0.6645 - val_accuracy: 0.5503\n",
      "Epoch 9/25\n",
      "81/81 [==============================] - 0s 2ms/step - loss: 0.6499 - accuracy: 0.6105 - val_loss: 0.6557 - val_accuracy: 0.5686\n",
      "Epoch 10/25\n",
      "81/81 [==============================] - 0s 2ms/step - loss: 0.6421 - accuracy: 0.6257 - val_loss: 0.6453 - val_accuracy: 0.5854\n",
      "Epoch 11/25\n",
      "81/81 [==============================] - 0s 2ms/step - loss: 0.6288 - accuracy: 0.6337 - val_loss: 0.6295 - val_accuracy: 0.6341\n",
      "Epoch 12/25\n",
      "81/81 [==============================] - 0s 1ms/step - loss: 0.6244 - accuracy: 0.6333 - val_loss: 0.6168 - val_accuracy: 0.6585\n",
      "Epoch 13/25\n",
      "81/81 [==============================] - 0s 1ms/step - loss: 0.6127 - accuracy: 0.6482 - val_loss: 0.6039 - val_accuracy: 0.6723\n",
      "Epoch 14/25\n",
      "81/81 [==============================] - 0s 2ms/step - loss: 0.6039 - accuracy: 0.6631 - val_loss: 0.5875 - val_accuracy: 0.7165\n",
      "Epoch 15/25\n",
      "81/81 [==============================] - 0s 2ms/step - loss: 0.5728 - accuracy: 0.6757 - val_loss: 0.5671 - val_accuracy: 0.7393\n",
      "Epoch 16/25\n",
      "81/81 [==============================] - 0s 2ms/step - loss: 0.5743 - accuracy: 0.6795 - val_loss: 0.5547 - val_accuracy: 0.7424\n",
      "Epoch 17/25\n",
      "81/81 [==============================] - 0s 2ms/step - loss: 0.5492 - accuracy: 0.7055 - val_loss: 0.5383 - val_accuracy: 0.7454\n",
      "Epoch 18/25\n",
      "81/81 [==============================] - 0s 2ms/step - loss: 0.5465 - accuracy: 0.7039 - val_loss: 0.5290 - val_accuracy: 0.7454\n",
      "Epoch 19/25\n",
      "81/81 [==============================] - 0s 1ms/step - loss: 0.5413 - accuracy: 0.7161 - val_loss: 0.5258 - val_accuracy: 0.7454\n",
      "Epoch 20/25\n",
      "81/81 [==============================] - 0s 1ms/step - loss: 0.5192 - accuracy: 0.7219 - val_loss: 0.5135 - val_accuracy: 0.7576\n",
      "Epoch 21/25\n",
      "81/81 [==============================] - 0s 1ms/step - loss: 0.5117 - accuracy: 0.7245 - val_loss: 0.5066 - val_accuracy: 0.7515\n",
      "Epoch 22/25\n",
      "81/81 [==============================] - 0s 1ms/step - loss: 0.4910 - accuracy: 0.7486 - val_loss: 0.5019 - val_accuracy: 0.7561\n",
      "Epoch 23/25\n",
      "81/81 [==============================] - 0s 1ms/step - loss: 0.4964 - accuracy: 0.7440 - val_loss: 0.4999 - val_accuracy: 0.7546\n",
      "Epoch 24/25\n",
      "81/81 [==============================] - 0s 1ms/step - loss: 0.4794 - accuracy: 0.7493 - val_loss: 0.4910 - val_accuracy: 0.7576\n",
      "Epoch 25/25\n",
      "81/81 [==============================] - 0s 1ms/step - loss: 0.4682 - accuracy: 0.7631 - val_loss: 0.4842 - val_accuracy: 0.7607\n",
      "Wall time: 6.81 s\n"
     ]
    }
   ],
   "source": [
    "%%time\n",
    "model = Sequential()\n",
    "model.add(Dense(64, activation='relu', input_dim=2000))\n",
    "model.add(Dropout(0.9))\n",
    "model.add(Dense(64, activation='relu'))\n",
    "model.add(Dropout(0.9))\n",
    "model.add(Dense(1, activation='sigmoid'))\n",
    "model.compile(optimizer='adam',\n",
    "              loss='binary_crossentropy',\n",
    "              metrics=['accuracy'])\n",
    "\n",
    "a =model.fit_generator(generator=batch_generator(x_train_tfidf, y_train, 32),\n",
    "                    epochs=25, validation_data=(x_validation_tfidf, y_validation),\n",
    "                    steps_per_epoch=x_train_tfidf.shape[0]/32)"
   ]
  },
  {
   "cell_type": "code",
   "execution_count": 23,
   "id": "86e27c1c",
   "metadata": {},
   "outputs": [
    {
     "data": {
      "text/plain": [
       "0.7606707215309143"
      ]
     },
     "execution_count": 23,
     "metadata": {},
     "output_type": "execute_result"
    }
   ],
   "source": [
    "#Accuracy score\n",
    "original_score = max(a.history['val_accuracy'])\n",
    "original_score"
   ]
  },
  {
   "cell_type": "code",
   "execution_count": 26,
   "id": "b0e0ccf3",
   "metadata": {},
   "outputs": [
    {
     "data": {
      "text/plain": [
       "0.707635009310987"
      ]
     },
     "execution_count": 26,
     "metadata": {},
     "output_type": "execute_result"
    }
   ],
   "source": [
    "#F1 score\n",
    "original_f1_score = 0\n",
    "y_pred = model.predict_classes(x_validation_tfidf)[:,0]\n",
    "original_f1_score = f1_score(y_validation, y_pred) \n",
    "original_f1_score"
   ]
  },
  {
   "cell_type": "markdown",
   "id": "9a58f123",
   "metadata": {},
   "source": [
    "# AL"
   ]
  },
  {
   "cell_type": "code",
   "execution_count": 27,
   "id": "75ba2e41",
   "metadata": {},
   "outputs": [],
   "source": [
    "# build function for the Keras' scikit-learn API\n",
    "def create_keras_model():\n",
    "    model = Sequential()\n",
    "    model.add(Dense(64, activation='relu', input_dim=2000))\n",
    "    model.add(Dropout(0.9))\n",
    "    model.add(Dense(64, activation='relu'))\n",
    "    model.add(Dropout(0.9))\n",
    "    model.add(Dense(1, activation='sigmoid'))\n",
    "    \n",
    "    model.compile(optimizer='adam',\n",
    "              loss='binary_crossentropy',\n",
    "              metrics=['accuracy'])\n",
    "    \n",
    "    return model"
   ]
  },
  {
   "cell_type": "code",
   "execution_count": 28,
   "id": "408eb710",
   "metadata": {},
   "outputs": [],
   "source": [
    "# create the classifier\n",
    "classifier = KerasClassifier(create_keras_model)"
   ]
  },
  {
   "cell_type": "code",
   "execution_count": 29,
   "id": "3939fdbf",
   "metadata": {},
   "outputs": [],
   "source": [
    "# assemble initial data\n",
    "y_train = np.asarray(y_train)\n",
    "n_initial = 100\n",
    "initial_idx = np.random.choice(range(len(x_train)), size=n_initial, replace=False)\n",
    "X_initial = np.asarray(x_train_tfidf.todense()[initial_idx])\n",
    "Y_initial = np.asarray(y_train[initial_idx])\n",
    "y_train = np.transpose(y_train) # Reshaping of 1d to 2d array\n",
    "\n",
    "# generate the pool\n",
    "# remove the initial data from the training dataset\n",
    "X_pool = np.delete(x_train_tfidf.todense(), initial_idx, axis=0)\n",
    "y_pool = np.delete(y_train, initial_idx, axis=0)"
   ]
  },
  {
   "cell_type": "code",
   "execution_count": 34,
   "id": "ac5bce39",
   "metadata": {},
   "outputs": [],
   "source": [
    "# initialize ActiveLearner\n",
    "learner = ActiveLearner(\n",
    "    estimator=classifier, query_strategy = uncertainty.uncertainty_sampling,\n",
    "    X_training=X_initial, y_training=Y_initial, verbose = 0)"
   ]
  },
  {
   "cell_type": "code",
   "execution_count": 35,
   "id": "6d38ef06",
   "metadata": {},
   "outputs": [
    {
     "name": "stdout",
     "output_type": "stream",
     "text": [
      "Query no. 1\n",
      "21/21 [==============================] - 0s 600us/step - loss: 0.6861 - accuracy: 0.5457\n",
      "Query no. 2\n",
      "21/21 [==============================] - 0s 600us/step - loss: 0.6888 - accuracy: 0.6479\n",
      "Query no. 3\n",
      "21/21 [==============================] - 0s 650us/step - loss: 0.6955 - accuracy: 0.4543\n",
      "Query no. 4\n",
      "21/21 [==============================] - 0s 550us/step - loss: 0.6797 - accuracy: 0.5473\n",
      "Query no. 5\n",
      "21/21 [==============================] - 0s 600us/step - loss: 0.6757 - accuracy: 0.5869\n",
      "Query no. 6\n",
      "21/21 [==============================] - 0s 600us/step - loss: 0.6622 - accuracy: 0.7149\n",
      "Query no. 7\n",
      "21/21 [==============================] - 0s 600us/step - loss: 0.6358 - accuracy: 0.7165\n",
      "Query no. 8\n",
      "21/21 [==============================] - 0s 600us/step - loss: 0.6253 - accuracy: 0.7348\n",
      "Query no. 9\n",
      "21/21 [==============================] - 0s 550us/step - loss: 0.6181 - accuracy: 0.7271\n",
      "Query no. 10\n",
      "21/21 [==============================] - 0s 600us/step - loss: 0.6257 - accuracy: 0.7149\n",
      "Query no. 11\n",
      "21/21 [==============================] - 0s 600us/step - loss: 0.6089 - accuracy: 0.7271\n",
      "Query no. 12\n",
      "21/21 [==============================] - 0s 600us/step - loss: 0.6000 - accuracy: 0.7241\n",
      "Query no. 13\n",
      "21/21 [==============================] - 0s 600us/step - loss: 0.6127 - accuracy: 0.7317\n",
      "Query no. 14\n",
      "21/21 [==============================] - 0s 600us/step - loss: 0.5902 - accuracy: 0.7317\n",
      "Query no. 15\n",
      "21/21 [==============================] - 0s 600us/step - loss: 0.5892 - accuracy: 0.7165\n",
      "Query no. 16\n",
      "21/21 [==============================] - 0s 600us/step - loss: 0.5847 - accuracy: 0.7470\n",
      "Query no. 17\n",
      "21/21 [==============================] - 0s 600us/step - loss: 0.5576 - accuracy: 0.7500\n",
      "Query no. 18\n",
      "21/21 [==============================] - 0s 650us/step - loss: 0.5797 - accuracy: 0.7439\n",
      "Query no. 19\n",
      "21/21 [==============================] - 0s 600us/step - loss: 0.5467 - accuracy: 0.7393\n",
      "Query no. 20\n",
      "21/21 [==============================] - 0s 550us/step - loss: 0.5464 - accuracy: 0.7317\n",
      "Query no. 21\n",
      "21/21 [==============================] - 0s 650us/step - loss: 0.5299 - accuracy: 0.7470\n",
      "Query no. 22\n",
      "21/21 [==============================] - 0s 650us/step - loss: 0.5037 - accuracy: 0.7424\n",
      "Query no. 23\n",
      "21/21 [==============================] - 0s 700us/step - loss: 0.5186 - accuracy: 0.7424\n",
      "Query no. 24\n",
      "21/21 [==============================] - 0s 700us/step - loss: 0.5119 - accuracy: 0.7454\n",
      "Query no. 25\n",
      "21/21 [==============================] - 0s 701us/step - loss: 0.5168 - accuracy: 0.7652\n",
      "Wall time: 36.9 s\n"
     ]
    }
   ],
   "source": [
    "%%time\n",
    "# the active learning loop\n",
    "\n",
    "n_queries = 25\n",
    "uncertainity_scores = []\n",
    "uncertainity_f1_scores = []\n",
    "for idx in range(n_queries):\n",
    "    print('Query no. %d' % (idx + 1))\n",
    "    query_idx, query_instance = learner.query(X_pool, n_instances=100)\n",
    "    learner.teach(\n",
    "        X=X_pool[query_idx], y=y_pool[query_idx], only_new = False, epochs = 25, verbose = 0)\n",
    "    \n",
    "    # Accuracy score\n",
    "    uncertainity_scores.append(learner.score(x_validation_tfidf, y_validation))\n",
    "    \n",
    "    #F1 score\n",
    "    y_pred = learner.predict(x_validation_tfidf)[:,0]\n",
    "    uncertainity_f1_scores.append(f1_score(y_validation, y_pred)) \n",
    "    \n",
    "    # remove queried instance from pool\n",
    "    X_pool = np.asarray(np.delete(X_pool, query_idx, axis=0))   \n",
    "    y_pool = np.asarray(np.delete(y_pool, query_idx, axis=0))"
   ]
  },
  {
   "cell_type": "code",
   "execution_count": 36,
   "id": "d44fbc22",
   "metadata": {},
   "outputs": [],
   "source": [
    "# generate the pool\n",
    "# remove the initial data from the training dataset\n",
    "X_pool = np.delete(x_train_tfidf.todense(), initial_idx, axis=0)\n",
    "y_pool = np.delete(y_train, initial_idx, axis=0)"
   ]
  },
  {
   "cell_type": "code",
   "execution_count": 37,
   "id": "d77a1c19",
   "metadata": {},
   "outputs": [],
   "source": [
    "# initialize ActiveLearner\n",
    "learner = ActiveLearner(\n",
    "    estimator=classifier, query_strategy = uncertainty.margin_sampling,\n",
    "    X_training=X_initial, y_training=Y_initial, verbose = 0)"
   ]
  },
  {
   "cell_type": "code",
   "execution_count": 38,
   "id": "d78c3cc4",
   "metadata": {},
   "outputs": [
    {
     "name": "stdout",
     "output_type": "stream",
     "text": [
      "Query no. 1\n",
      "21/21 [==============================] - 0s 650us/step - loss: 0.6868 - accuracy: 0.5457\n",
      "Query no. 2\n",
      "21/21 [==============================] - 0s 600us/step - loss: 0.6869 - accuracy: 0.5518\n",
      "Query no. 3\n",
      "21/21 [==============================] - 0s 600us/step - loss: 0.6949 - accuracy: 0.4543\n",
      "Query no. 4\n",
      "21/21 [==============================] - 0s 650us/step - loss: 0.6777 - accuracy: 0.6006\n",
      "Query no. 5\n",
      "21/21 [==============================] - 0s 600us/step - loss: 0.6702 - accuracy: 0.6220\n",
      "Query no. 6\n",
      "21/21 [==============================] - 0s 649us/step - loss: 0.6578 - accuracy: 0.6738\n",
      "Query no. 7\n",
      "21/21 [==============================] - 0s 650us/step - loss: 0.6506 - accuracy: 0.6951\n",
      "Query no. 8\n",
      "21/21 [==============================] - 0s 600us/step - loss: 0.6498 - accuracy: 0.7134\n",
      "Query no. 9\n",
      "21/21 [==============================] - 0s 600us/step - loss: 0.6329 - accuracy: 0.7119\n",
      "Query no. 10\n",
      "21/21 [==============================] - 0s 650us/step - loss: 0.6399 - accuracy: 0.7119\n",
      "Query no. 11\n",
      "21/21 [==============================] - 0s 600us/step - loss: 0.6188 - accuracy: 0.7409\n",
      "Query no. 12\n",
      "21/21 [==============================] - 0s 650us/step - loss: 0.6311 - accuracy: 0.7393\n",
      "Query no. 13\n",
      "21/21 [==============================] - 0s 600us/step - loss: 0.6108 - accuracy: 0.7256\n",
      "Query no. 14\n",
      "21/21 [==============================] - 0s 700us/step - loss: 0.6197 - accuracy: 0.7348\n",
      "Query no. 15\n",
      "21/21 [==============================] - 0s 650us/step - loss: 0.6108 - accuracy: 0.7424\n",
      "Query no. 16\n",
      "21/21 [==============================] - 0s 600us/step - loss: 0.5979 - accuracy: 0.7332\n",
      "Query no. 17\n",
      "21/21 [==============================] - 0s 600us/step - loss: 0.5908 - accuracy: 0.7302\n",
      "Query no. 18\n",
      "21/21 [==============================] - 0s 650us/step - loss: 0.5916 - accuracy: 0.7317\n",
      "Query no. 19\n",
      "21/21 [==============================] - 0s 700us/step - loss: 0.5732 - accuracy: 0.7317\n",
      "Query no. 20\n",
      "21/21 [==============================] - 0s 650us/step - loss: 0.5455 - accuracy: 0.7561\n",
      "Query no. 21\n",
      "21/21 [==============================] - 0s 600us/step - loss: 0.5542 - accuracy: 0.7454\n",
      "Query no. 22\n",
      "21/21 [==============================] - 0s 600us/step - loss: 0.5225 - accuracy: 0.7515\n",
      "Query no. 23\n",
      "21/21 [==============================] - 0s 600us/step - loss: 0.5391 - accuracy: 0.7287\n",
      "Query no. 24\n",
      "21/21 [==============================] - 0s 550us/step - loss: 0.5243 - accuracy: 0.7470\n",
      "Query no. 25\n",
      "21/21 [==============================] - 0s 550us/step - loss: 0.5187 - accuracy: 0.7622\n"
     ]
    }
   ],
   "source": [
    "# the active learning loop\n",
    "n_queries = 25\n",
    "margin_scores = []\n",
    "margin_f1_scores = []\n",
    "for idx in range(n_queries):\n",
    "    print('Query no. %d' % (idx + 1))\n",
    "    query_idx, query_instance = learner.query(X_pool, n_instances=100)\n",
    "    learner.teach(\n",
    "        X=X_pool[query_idx], y=y_pool[query_idx], only_new = False, epochs = 25, verbose = 0)\n",
    "    \n",
    "    # Accuracy score\n",
    "    margin_scores.append(learner.score(x_validation_tfidf, y_validation))\n",
    "    \n",
    "    #F1 score\n",
    "    y_pred = learner.predict(x_validation_tfidf)[:,0]\n",
    "    margin_f1_scores.append(f1_score(y_validation, y_pred)) \n",
    "    \n",
    "    # remove queried instance from pool\n",
    "    X_pool = np.asarray(np.delete(X_pool, query_idx, axis=0))   \n",
    "    y_pool = np.asarray(np.delete(y_pool, query_idx, axis=0))"
   ]
  },
  {
   "cell_type": "code",
   "execution_count": 39,
   "id": "3d069c6f",
   "metadata": {},
   "outputs": [],
   "source": [
    "# generate the pool\n",
    "# remove the initial data from the training dataset\n",
    "X_pool = np.delete(x_train_tfidf.todense(), initial_idx, axis=0)\n",
    "y_pool = np.delete(y_train, initial_idx, axis=0)"
   ]
  },
  {
   "cell_type": "code",
   "execution_count": 40,
   "id": "0e0f45b6",
   "metadata": {},
   "outputs": [],
   "source": [
    "# initialize ActiveLearner\n",
    "learner = ActiveLearner(\n",
    "    estimator=classifier, query_strategy = uncertainty.entropy_sampling,\n",
    "    X_training=X_initial, y_training=Y_initial, verbose = 0)"
   ]
  },
  {
   "cell_type": "code",
   "execution_count": 41,
   "id": "2b03ed7f",
   "metadata": {},
   "outputs": [
    {
     "name": "stdout",
     "output_type": "stream",
     "text": [
      "Query no. 1\n",
      "21/21 [==============================] - 0s 650us/step - loss: 0.6879 - accuracy: 0.5457\n",
      "Query no. 2\n",
      "21/21 [==============================] - 0s 700us/step - loss: 0.6875 - accuracy: 0.5457\n",
      "Query no. 3\n",
      "21/21 [==============================] - 0s 600us/step - loss: 0.6928 - accuracy: 0.4543\n",
      "Query no. 4\n",
      "21/21 [==============================] - 0s 650us/step - loss: 0.6780 - accuracy: 0.5610\n",
      "Query no. 5\n",
      "21/21 [==============================] - 0s 600us/step - loss: 0.6757 - accuracy: 0.5976\n",
      "Query no. 6\n",
      "21/21 [==============================] - 0s 600us/step - loss: 0.6544 - accuracy: 0.6936\n",
      "Query no. 7\n",
      "21/21 [==============================] - 0s 600us/step - loss: 0.6482 - accuracy: 0.6875\n",
      "Query no. 8\n",
      "21/21 [==============================] - 0s 600us/step - loss: 0.6345 - accuracy: 0.7332\n",
      "Query no. 9\n",
      "21/21 [==============================] - 0s 650us/step - loss: 0.6011 - accuracy: 0.7195\n",
      "Query no. 10\n",
      "21/21 [==============================] - 0s 650us/step - loss: 0.6073 - accuracy: 0.7363\n",
      "Query no. 11\n",
      "21/21 [==============================] - 0s 600us/step - loss: 0.6386 - accuracy: 0.7287\n",
      "Query no. 12\n",
      "21/21 [==============================] - 0s 550us/step - loss: 0.6077 - accuracy: 0.7195\n",
      "Query no. 13\n",
      "21/21 [==============================] - 0s 650us/step - loss: 0.6231 - accuracy: 0.7027\n",
      "Query no. 14\n",
      "21/21 [==============================] - 0s 700us/step - loss: 0.5833 - accuracy: 0.7424\n",
      "Query no. 15\n",
      "21/21 [==============================] - 0s 655us/step - loss: 0.5855 - accuracy: 0.7317\n",
      "Query no. 16\n",
      "21/21 [==============================] - 0s 650us/step - loss: 0.5732 - accuracy: 0.7470\n",
      "Query no. 17\n",
      "21/21 [==============================] - 0s 750us/step - loss: 0.5614 - accuracy: 0.7302\n",
      "Query no. 18\n",
      "21/21 [==============================] - 0s 649us/step - loss: 0.5832 - accuracy: 0.7500\n",
      "Query no. 19\n",
      "21/21 [==============================] - 0s 700us/step - loss: 0.5277 - accuracy: 0.7561\n",
      "Query no. 20\n",
      "21/21 [==============================] - 0s 600us/step - loss: 0.5176 - accuracy: 0.7607\n",
      "Query no. 21\n",
      "21/21 [==============================] - 0s 600us/step - loss: 0.5495 - accuracy: 0.7454\n",
      "Query no. 22\n",
      "21/21 [==============================] - 0s 600us/step - loss: 0.5065 - accuracy: 0.7485\n",
      "Query no. 23\n",
      "21/21 [==============================] - 0s 600us/step - loss: 0.5056 - accuracy: 0.7470\n",
      "Query no. 24\n",
      "21/21 [==============================] - 0s 550us/step - loss: 0.5219 - accuracy: 0.7454\n",
      "Query no. 25\n",
      "21/21 [==============================] - 0s 650us/step - loss: 0.5123 - accuracy: 0.7348\n"
     ]
    }
   ],
   "source": [
    "# the active learning loop\n",
    "n_queries = 25\n",
    "entropy_scores = []\n",
    "entropy_f1_scores = []\n",
    "for idx in range(n_queries):\n",
    "    print('Query no. %d' % (idx + 1))\n",
    "    query_idx, query_instance = learner.query(X_pool, n_instances=100)\n",
    "    learner.teach(\n",
    "        X=X_pool[query_idx], y=y_pool[query_idx], only_new = False, epochs = 25, verbose = 0)\n",
    "    \n",
    "    # Accuracy score\n",
    "    entropy_scores.append(learner.score(x_validation_tfidf, y_validation))\n",
    "    \n",
    "    #F1 score\n",
    "    y_pred = learner.predict(x_validation_tfidf)[:,0]\n",
    "    entropy_f1_scores.append(f1_score(y_validation, y_pred)) \n",
    "    \n",
    "    # remove queried instance from pool\n",
    "    X_pool = np.asarray(np.delete(X_pool, query_idx, axis=0))   \n",
    "    y_pool = np.asarray(np.delete(y_pool, query_idx, axis=0))"
   ]
  },
  {
   "cell_type": "code",
   "execution_count": 42,
   "id": "96b35edb",
   "metadata": {},
   "outputs": [
    {
     "data": {
      "image/png": "[encoded data removed]",
      "text/plain": [
       "<Figure size 1440x504 with 1 Axes>"
      ]
     },
     "metadata": {
      "needs_background": "light"
     },
     "output_type": "display_data"
    }
   ],
   "source": [
    "# Accuracy scores plot\n",
    "\n",
    "plt.axhline(y=original_score, color='m', linestyle='-')\n",
    "plt.ylabel('Accuracy score', fontsize = 20)\n",
    "plt.xlabel('Dataset percentage', fontsize = 20)\n",
    "fig = plt.figure(1, (7, 10))\n",
    "ax = fig.add_subplot(1, 1, 1)\n",
    "ax.plot(uncertainity_scores, c = 'r')\n",
    "ax.plot(margin_scores, c = 'b')\n",
    "ax.plot(entropy_scores, c = 'g')\n",
    "xticks = mtick.PercentFormatter(25)\n",
    "ax.xaxis.set_major_formatter(xticks)\n",
    "plt.legend(['Original', 'Uncertainity', 'Margin', 'Entropy'], fontsize = 30)\n",
    "plt.show()"
   ]
  },
  {
   "cell_type": "code",
   "execution_count": 43,
   "id": "c4921955",
   "metadata": {},
   "outputs": [
    {
     "data": {
      "image/png": "[encoded data removed]",
      "text/plain": [
       "<Figure size 1440x504 with 1 Axes>"
      ]
     },
     "metadata": {
      "needs_background": "light"
     },
     "output_type": "display_data"
    }
   ],
   "source": [
    "# Accuracy scores plot\n",
    "\n",
    "plt.axhline(y=original_f1_score, color='m', linestyle='-')\n",
    "plt.ylabel('F1 score', fontsize = 20)\n",
    "plt.xlabel('Dataset percentage', fontsize = 20)\n",
    "fig = plt.figure(1, (7, 10))\n",
    "ax = fig.add_subplot(1, 1, 1)\n",
    "ax.plot(uncertainity_f1_scores, c = 'r')\n",
    "ax.plot(margin_f1_scores, c = 'b')\n",
    "ax.plot(entropy_f1_scores, c = 'g')\n",
    "xticks = mtick.PercentFormatter(25)\n",
    "ax.xaxis.set_major_formatter(xticks)\n",
    "plt.legend(['Original', 'Uncertainity', 'Margin', 'Entropy'], fontsize = 30)\n",
    "plt.show()"
   ]
  },
  {
   "cell_type": "code",
   "execution_count": null,
   "id": "21bc9835",
   "metadata": {},
   "outputs": [],
   "source": []
  }
 ],
 "metadata": {
  "kernelspec": {
   "display_name": "Python 3 (ipykernel)",
   "language": "python",
   "name": "python3"
  },
  "language_info": {
   "codemirror_mode": {
    "name": "ipython",
    "version": 3
   },
   "file_extension": ".py",
   "mimetype": "text/x-python",
   "name": "python",
   "nbconvert_exporter": "python",
   "pygments_lexer": "ipython3",
   "version": "3.8.8"
  }
 },
 "nbformat": 4,
 "nbformat_minor": 5
}
